{
 "cells": [
  {
   "cell_type": "code",
   "execution_count": 10,
   "id": "87f425e6",
   "metadata": {},
   "outputs": [],
   "source": [
    "from tensorflow.keras.models import load_model\n",
    "from tensorflow.keras.preprocessing import image"
   ]
  },
  {
   "cell_type": "code",
   "execution_count": 11,
   "id": "aaa406d2",
   "metadata": {},
   "outputs": [],
   "source": [
    "model = load_model(\"eyes.h5\")"
   ]
  },
  {
   "cell_type": "code",
   "execution_count": 12,
   "id": "2f64b0a9",
   "metadata": {},
   "outputs": [
    {
     "data": {
      "image/png": "[encoded data removed]",
      "text/plain": [
       "<PIL.Image.Image image mode=RGB size=64x64>"
      ]
     },
     "execution_count": 12,
     "metadata": {},
     "output_type": "execute_result"
    }
   ],
   "source": [
    "# testing 1\n",
    "\n",
    "img = image.load_img('D:\\Downloads\\Random Downloads\\EyeDisease1\\Eye_diseases\\Train\\Cataracts\\image-20.jpeg',target_size =(64,64))\n",
    "img"
   ]
  },
  {
   "cell_type": "code",
   "execution_count": 13,
   "id": "dbac08ca",
   "metadata": {},
   "outputs": [
    {
     "data": {
      "text/plain": [
       "PIL.Image.Image"
      ]
     },
     "execution_count": 13,
     "metadata": {},
     "output_type": "execute_result"
    }
   ],
   "source": [
    "type(img)"
   ]
  },
  {
   "cell_type": "code",
   "execution_count": 14,
   "id": "47d597fb",
   "metadata": {},
   "outputs": [],
   "source": [
    "import numpy as np"
   ]
  },
  {
   "cell_type": "code",
   "execution_count": 15,
   "id": "6ac3adb8",
   "metadata": {},
   "outputs": [],
   "source": [
    "x = image.img_to_array(img)"
   ]
  },
  {
   "cell_type": "code",
   "execution_count": 16,
   "id": "66da53e1",
   "metadata": {},
   "outputs": [
    {
     "data": {
      "text/plain": [
       "(1, 64, 64, 3)"
      ]
     },
     "execution_count": 16,
     "metadata": {},
     "output_type": "execute_result"
    }
   ],
   "source": [
    "x = np.expand_dims(x, axis=0)\n",
    "x.shape"
   ]
  },
  {
   "cell_type": "code",
   "execution_count": 17,
   "id": "032d3777",
   "metadata": {},
   "outputs": [
    {
     "name": "stdout",
     "output_type": "stream",
     "text": [
      "1/1 [==============================] - 0s 77ms/step\n"
     ]
    }
   ],
   "source": [
    "predictions = model.predict(x)\n",
    "predicted_classes = np.argmax(predictions, axis=-1)"
   ]
  },
  {
   "cell_type": "code",
   "execution_count": 18,
   "id": "f56dc33a",
   "metadata": {},
   "outputs": [
    {
     "data": {
      "text/plain": [
       "2"
      ]
     },
     "execution_count": 18,
     "metadata": {},
     "output_type": "execute_result"
    }
   ],
   "source": [
    "predicted_classes[0]"
   ]
  },
  {
   "cell_type": "code",
   "execution_count": 19,
   "id": "c9d0ef38",
   "metadata": {},
   "outputs": [],
   "source": [
    "index = [\"Bulging Eyes\", \"Cataracts\", \"Crossed Eyes\",\"Glaucoma\",\"Uveitis\"]"
   ]
  },
  {
   "cell_type": "code",
   "execution_count": 20,
   "id": "ee28ca62",
   "metadata": {},
   "outputs": [],
   "source": [
    "eyes = index[predicted_classes[0]]"
   ]
  },
  {
   "cell_type": "code",
   "execution_count": 21,
   "id": "e3a81a50",
   "metadata": {},
   "outputs": [
    {
     "data": {
      "text/plain": [
       "'Crossed Eyes'"
      ]
     },
     "execution_count": 21,
     "metadata": {},
     "output_type": "execute_result"
    }
   ],
   "source": [
    "eyes"
   ]
  },
  {
   "cell_type": "code",
   "execution_count": null,
   "id": "e17afc23",
   "metadata": {},
   "outputs": [],
   "source": []
  }
 ],
 "metadata": {
  "kernelspec": {
   "display_name": "Python 3 (ipykernel)",
   "language": "python",
   "name": "python3"
  },
  "language_info": {
   "codemirror_mode": {
    "name": "ipython",
    "version": 3
   },
   "file_extension": ".py",
   "mimetype": "text/x-python",
   "name": "python",
   "nbconvert_exporter": "python",
   "pygments_lexer": "ipython3",
   "version": "3.11.5"
  }
 },
 "nbformat": 4,
 "nbformat_minor": 5
}
