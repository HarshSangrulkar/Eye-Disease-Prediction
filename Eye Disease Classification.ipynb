{
 "cells": [
  {
   "cell_type": "code",
   "execution_count": 1,
   "id": "25a0a4eb",
   "metadata": {},
   "outputs": [],
   "source": [
    "# import the nececessary lib\n",
    "from tensorflow.keras.preprocessing.image import ImageDataGenerator"
   ]
  },
  {
   "cell_type": "code",
   "execution_count": 2,
   "id": "a3041b50",
   "metadata": {},
   "outputs": [],
   "source": [
    "# data augmentation for the training variable\n",
    "\n",
    "train_datagen = ImageDataGenerator(rescale =1./255,zoom_range=0.2,horizontal_flip = True)"
   ]
  },
  {
   "cell_type": "code",
   "execution_count": 3,
   "id": "25944c41",
   "metadata": {},
   "outputs": [],
   "source": [
    "# data augmentation for the testing variable\n",
    "\n",
    "test_datagen = ImageDataGenerator(rescale =1./255)"
   ]
  },
  {
   "cell_type": "code",
   "execution_count": 4,
   "id": "bf617f0f",
   "metadata": {},
   "outputs": [
    {
     "name": "stdout",
     "output_type": "stream",
     "text": [
      "Found 383 images belonging to 5 classes.\n"
     ]
    }
   ],
   "source": [
    "x_train = train_datagen.flow_from_directory('D:\\Downloads\\Random Downloads\\EyeDisease1\\Eye_diseases\\Train',\n",
    "                                            target_size=(64, 64),\n",
    "                                            class_mode='categorical',\n",
    "                                            batch_size=100)\n"
   ]
  },
  {
   "cell_type": "code",
   "execution_count": 5,
   "id": "107ac1ac",
   "metadata": {},
   "outputs": [
    {
     "name": "stdout",
     "output_type": "stream",
     "text": [
      "Found 383 images belonging to 5 classes.\n"
     ]
    }
   ],
   "source": [
    "# data augmentation on the testing data\n",
    "\n",
    "\n",
    "x_test = test_datagen.flow_from_directory('D:\\Downloads\\Random Downloads\\EyeDisease1\\Eye_diseases\\Test',\n",
    "                                            target_size=(64,64),\n",
    "                                            class_mode = 'categorical',\n",
    "                                            batch_size = 100)"
   ]
  },
  {
   "cell_type": "code",
   "execution_count": 6,
   "id": "8c74dc47",
   "metadata": {},
   "outputs": [],
   "source": [
    "from tensorflow.keras.models import Sequential\n",
    "from tensorflow.keras.layers import Convolution2D, MaxPooling2D,Flatten,Dense"
   ]
  },
  {
   "cell_type": "code",
   "execution_count": 7,
   "id": "dc4d61e6",
   "metadata": {},
   "outputs": [],
   "source": [
    "# adding layers\n",
    "\n",
    "model = Sequential()\n",
    "\n",
    "model.add(Convolution2D(32,(3,3),activation='relu',input_shape=(64,64,3)))  #convolution layer\n",
    "model.add(MaxPooling2D(pool_size =(2,2)))  # maxpooling layer\n",
    "model.add(Flatten())  # flatten layer\n",
    "\n",
    "model.add(Dense(300,activation ='relu')) # hidden layer 1\n",
    "model.add(Dense(150,activation ='relu')) # hidden layer 2\n",
    "\n",
    "model.add(Dense(5,activation ='softmax')) # output layer"
   ]
  },
  {
   "cell_type": "code",
   "execution_count": 8,
   "id": "96d43544",
   "metadata": {},
   "outputs": [],
   "source": [
    "# compile the model\n",
    "model.compile(optimizer = 'adam',loss= 'categorical_crossentropy',metrics =['accuracy'])"
   ]
  },
  {
   "cell_type": "code",
   "execution_count": 9,
   "id": "adc78de7",
   "metadata": {},
   "outputs": [
    {
     "name": "stderr",
     "output_type": "stream",
     "text": [
      "C:\\Users\\harsh\\AppData\\Local\\Temp\\ipykernel_1868\\1394241440.py:3: UserWarning: `Model.fit_generator` is deprecated and will be removed in a future version. Please use `Model.fit`, which supports generators.\n",
      "  model.fit_generator(x_train,steps_per_epoch= len(x_train),epochs = 10,validation_data = x_test,validation_steps = len(x_test))\n"
     ]
    },
    {
     "name": "stdout",
     "output_type": "stream",
     "text": [
      "Epoch 1/10\n",
      "4/4 [==============================] - 8s 2s/step - loss: 4.8879 - accuracy: 0.3055 - val_loss: 2.4351 - val_accuracy: 0.1305\n",
      "Epoch 2/10\n",
      "4/4 [==============================] - 3s 821ms/step - loss: 1.7747 - accuracy: 0.4021 - val_loss: 1.5478 - val_accuracy: 0.4543\n",
      "Epoch 3/10\n",
      "4/4 [==============================] - 3s 889ms/step - loss: 1.4267 - accuracy: 0.4517 - val_loss: 1.4359 - val_accuracy: 0.4778\n",
      "Epoch 4/10\n",
      "4/4 [==============================] - 3s 866ms/step - loss: 1.4089 - accuracy: 0.4360 - val_loss: 1.3630 - val_accuracy: 0.4621\n",
      "Epoch 5/10\n",
      "4/4 [==============================] - 3s 820ms/step - loss: 1.3695 - accuracy: 0.4569 - val_loss: 1.3183 - val_accuracy: 0.4569\n",
      "Epoch 6/10\n",
      "4/4 [==============================] - 3s 832ms/step - loss: 1.3208 - accuracy: 0.4674 - val_loss: 1.3357 - val_accuracy: 0.4543\n",
      "Epoch 7/10\n",
      "4/4 [==============================] - 3s 850ms/step - loss: 1.3096 - accuracy: 0.4700 - val_loss: 1.2632 - val_accuracy: 0.4752\n",
      "Epoch 8/10\n",
      "4/4 [==============================] - 3s 848ms/step - loss: 1.2705 - accuracy: 0.4752 - val_loss: 1.2019 - val_accuracy: 0.5196\n",
      "Epoch 9/10\n",
      "4/4 [==============================] - 3s 848ms/step - loss: 1.2842 - accuracy: 0.5039 - val_loss: 1.3239 - val_accuracy: 0.3734\n",
      "Epoch 10/10\n",
      "4/4 [==============================] - 3s 841ms/step - loss: 1.2644 - accuracy: 0.4621 - val_loss: 1.1906 - val_accuracy: 0.5065\n"
     ]
    },
    {
     "data": {
      "text/plain": [
       "<keras.src.callbacks.History at 0x1b133aef2d0>"
      ]
     },
     "execution_count": 9,
     "metadata": {},
     "output_type": "execute_result"
    }
   ],
   "source": [
    "#training the model\n",
    "\n",
    "model.fit_generator(x_train,steps_per_epoch= len(x_train),epochs = 10,validation_data = x_test,validation_steps = len(x_test))"
   ]
  },
  {
   "cell_type": "code",
   "execution_count": 10,
   "id": "abb263b3",
   "metadata": {},
   "outputs": [
    {
     "name": "stderr",
     "output_type": "stream",
     "text": [
      "D:\\Anaconda\\Lib\\site-packages\\keras\\src\\engine\\training.py:3079: UserWarning: You are saving your model as an HDF5 file via `model.save()`. This file format is considered legacy. We recommend using instead the native Keras format, e.g. `model.save('my_model.keras')`.\n",
      "  saving_api.save_model(\n"
     ]
    }
   ],
   "source": [
    "# save the model\n",
    "\n",
    "model.save('eyes.h5')"
   ]
  },
  {
   "cell_type": "code",
   "execution_count": null,
   "id": "8c24230a",
   "metadata": {},
   "outputs": [],
   "source": []
  }
 ],
 "metadata": {
  "kernelspec": {
   "display_name": "Python 3 (ipykernel)",
   "language": "python",
   "name": "python3"
  },
  "language_info": {
   "codemirror_mode": {
    "name": "ipython",
    "version": 3
   },
   "file_extension": ".py",
   "mimetype": "text/x-python",
   "name": "python",
   "nbconvert_exporter": "python",
   "pygments_lexer": "ipython3",
   "version": "3.11.5"
  }
 },
 "nbformat": 4,
 "nbformat_minor": 5
}
